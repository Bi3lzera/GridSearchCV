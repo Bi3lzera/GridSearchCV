{
  "cells": [
    {
      "cell_type": "code",
      "execution_count": 217,
      "metadata": {
        "id": "LwmAli9P8-S7"
      },
      "outputs": [],
      "source": [
        "import numpy as np\n",
        "import pandas as pd\n",
        "from sklearn.neighbors import KNeighborsClassifier\n",
        "import matplotlib.pyplot as plt\n",
        "from sklearn.model_selection import train_test_split, cross_val_score, cross_val_predict, GridSearchCV\n",
        "from sklearn.metrics import confusion_matrix, accuracy_score, precision_score, recall_score"
      ]
    },
    {
      "cell_type": "code",
      "execution_count": 218,
      "metadata": {
        "id": "6Ue_AwoN-Wdg"
      },
      "outputs": [],
      "source": [
        "df = pd.read_csv(\"PDFMalware2022_pp.csv\", dtype={\"Class\": int})"
      ]
    },
    {
      "cell_type": "code",
      "execution_count": 219,
      "metadata": {
        "colab": {
          "base_uri": "https://localhost:8080/",
          "height": 342
        },
        "id": "3F02zrbq-jwq",
        "outputId": "16776ca7-ec2a-40d3-aa63-3e787866708e"
      },
      "outputs": [
        {
          "data": {
            "text/html": [
              "<div>\n",
              "<style scoped>\n",
              "    .dataframe tbody tr th:only-of-type {\n",
              "        vertical-align: middle;\n",
              "    }\n",
              "\n",
              "    .dataframe tbody tr th {\n",
              "        vertical-align: top;\n",
              "    }\n",
              "\n",
              "    .dataframe thead th {\n",
              "        text-align: right;\n",
              "    }\n",
              "</style>\n",
              "<table border=\"1\" class=\"dataframe\">\n",
              "  <thead>\n",
              "    <tr style=\"text-align: right;\">\n",
              "      <th></th>\n",
              "      <th>Fine.name</th>\n",
              "      <th>pdfsize</th>\n",
              "      <th>metadata.size</th>\n",
              "      <th>pages</th>\n",
              "      <th>xref.Length</th>\n",
              "      <th>title.characters</th>\n",
              "      <th>isEncrypted</th>\n",
              "      <th>embedded.files</th>\n",
              "      <th>images</th>\n",
              "      <th>text</th>\n",
              "      <th>...</th>\n",
              "      <th>AA</th>\n",
              "      <th>OpenAction</th>\n",
              "      <th>Acroform</th>\n",
              "      <th>JBIG2Decode</th>\n",
              "      <th>RichMedia</th>\n",
              "      <th>launch</th>\n",
              "      <th>EmbeddedFile</th>\n",
              "      <th>XFA</th>\n",
              "      <th>Colors</th>\n",
              "      <th>Class</th>\n",
              "    </tr>\n",
              "  </thead>\n",
              "  <tbody>\n",
              "    <tr>\n",
              "      <th>0</th>\n",
              "      <td>0.006549</td>\n",
              "      <td>0.000009</td>\n",
              "      <td>0.000171</td>\n",
              "      <td>1.894025e-06</td>\n",
              "      <td>0.000011</td>\n",
              "      <td>9.470127e-07</td>\n",
              "      <td>9.470127e-07</td>\n",
              "      <td>9.470127e-07</td>\n",
              "      <td>0.000003</td>\n",
              "      <td>0.000004</td>\n",
              "      <td>...</td>\n",
              "      <td>0.000003</td>\n",
              "      <td>0.000004</td>\n",
              "      <td>0.000003</td>\n",
              "      <td>0.000003</td>\n",
              "      <td>0.000003</td>\n",
              "      <td>0.000003</td>\n",
              "      <td>0.000003</td>\n",
              "      <td>0.000003</td>\n",
              "      <td>9.470127e-07</td>\n",
              "      <td>1</td>\n",
              "    </tr>\n",
              "    <tr>\n",
              "      <th>1</th>\n",
              "      <td>0.009439</td>\n",
              "      <td>0.000015</td>\n",
              "      <td>0.000213</td>\n",
              "      <td>9.470127e-07</td>\n",
              "      <td>0.000020</td>\n",
              "      <td>7.576102e-06</td>\n",
              "      <td>9.470127e-07</td>\n",
              "      <td>9.470127e-07</td>\n",
              "      <td>0.000003</td>\n",
              "      <td>0.000004</td>\n",
              "      <td>...</td>\n",
              "      <td>0.000003</td>\n",
              "      <td>0.000003</td>\n",
              "      <td>0.000004</td>\n",
              "      <td>0.000003</td>\n",
              "      <td>0.000003</td>\n",
              "      <td>0.000003</td>\n",
              "      <td>0.000018</td>\n",
              "      <td>0.000004</td>\n",
              "      <td>9.470127e-07</td>\n",
              "      <td>1</td>\n",
              "    </tr>\n",
              "    <tr>\n",
              "      <th>2</th>\n",
              "      <td>0.003199</td>\n",
              "      <td>0.000005</td>\n",
              "      <td>0.000444</td>\n",
              "      <td>2.841038e-06</td>\n",
              "      <td>0.000013</td>\n",
              "      <td>1.609922e-05</td>\n",
              "      <td>9.470127e-07</td>\n",
              "      <td>9.470127e-07</td>\n",
              "      <td>0.000003</td>\n",
              "      <td>0.000006</td>\n",
              "      <td>...</td>\n",
              "      <td>0.000003</td>\n",
              "      <td>0.000004</td>\n",
              "      <td>0.000003</td>\n",
              "      <td>0.000003</td>\n",
              "      <td>0.000003</td>\n",
              "      <td>0.000003</td>\n",
              "      <td>0.000003</td>\n",
              "      <td>0.000003</td>\n",
              "      <td>9.470127e-07</td>\n",
              "      <td>1</td>\n",
              "    </tr>\n",
              "    <tr>\n",
              "      <th>3</th>\n",
              "      <td>0.003891</td>\n",
              "      <td>0.000017</td>\n",
              "      <td>0.000238</td>\n",
              "      <td>1.894025e-06</td>\n",
              "      <td>0.000015</td>\n",
              "      <td>9.470127e-07</td>\n",
              "      <td>9.470127e-07</td>\n",
              "      <td>9.470127e-07</td>\n",
              "      <td>0.000003</td>\n",
              "      <td>0.000004</td>\n",
              "      <td>...</td>\n",
              "      <td>0.000003</td>\n",
              "      <td>0.000004</td>\n",
              "      <td>0.000004</td>\n",
              "      <td>0.000003</td>\n",
              "      <td>0.000003</td>\n",
              "      <td>0.000003</td>\n",
              "      <td>0.000003</td>\n",
              "      <td>0.000003</td>\n",
              "      <td>9.470127e-07</td>\n",
              "      <td>1</td>\n",
              "    </tr>\n",
              "    <tr>\n",
              "      <th>4</th>\n",
              "      <td>0.008491</td>\n",
              "      <td>0.000008</td>\n",
              "      <td>0.000240</td>\n",
              "      <td>3.788051e-06</td>\n",
              "      <td>0.000016</td>\n",
              "      <td>4.356259e-05</td>\n",
              "      <td>9.470127e-07</td>\n",
              "      <td>9.470127e-07</td>\n",
              "      <td>0.000003</td>\n",
              "      <td>0.000006</td>\n",
              "      <td>...</td>\n",
              "      <td>0.000003</td>\n",
              "      <td>0.000004</td>\n",
              "      <td>0.000003</td>\n",
              "      <td>0.000003</td>\n",
              "      <td>0.000003</td>\n",
              "      <td>0.000003</td>\n",
              "      <td>0.000003</td>\n",
              "      <td>0.000003</td>\n",
              "      <td>9.470127e-07</td>\n",
              "      <td>1</td>\n",
              "    </tr>\n",
              "  </tbody>\n",
              "</table>\n",
              "<p>5 rows × 33 columns</p>\n",
              "</div>"
            ],
            "text/plain": [
              "   Fine.name   pdfsize  metadata.size         pages  xref.Length  \\\n",
              "0   0.006549  0.000009       0.000171  1.894025e-06     0.000011   \n",
              "1   0.009439  0.000015       0.000213  9.470127e-07     0.000020   \n",
              "2   0.003199  0.000005       0.000444  2.841038e-06     0.000013   \n",
              "3   0.003891  0.000017       0.000238  1.894025e-06     0.000015   \n",
              "4   0.008491  0.000008       0.000240  3.788051e-06     0.000016   \n",
              "\n",
              "   title.characters   isEncrypted  embedded.files    images      text  ...  \\\n",
              "0      9.470127e-07  9.470127e-07    9.470127e-07  0.000003  0.000004  ...   \n",
              "1      7.576102e-06  9.470127e-07    9.470127e-07  0.000003  0.000004  ...   \n",
              "2      1.609922e-05  9.470127e-07    9.470127e-07  0.000003  0.000006  ...   \n",
              "3      9.470127e-07  9.470127e-07    9.470127e-07  0.000003  0.000004  ...   \n",
              "4      4.356259e-05  9.470127e-07    9.470127e-07  0.000003  0.000006  ...   \n",
              "\n",
              "         AA  OpenAction  Acroform  JBIG2Decode  RichMedia    launch  \\\n",
              "0  0.000003    0.000004  0.000003     0.000003   0.000003  0.000003   \n",
              "1  0.000003    0.000003  0.000004     0.000003   0.000003  0.000003   \n",
              "2  0.000003    0.000004  0.000003     0.000003   0.000003  0.000003   \n",
              "3  0.000003    0.000004  0.000004     0.000003   0.000003  0.000003   \n",
              "4  0.000003    0.000004  0.000003     0.000003   0.000003  0.000003   \n",
              "\n",
              "   EmbeddedFile       XFA        Colors  Class  \n",
              "0      0.000003  0.000003  9.470127e-07      1  \n",
              "1      0.000018  0.000004  9.470127e-07      1  \n",
              "2      0.000003  0.000003  9.470127e-07      1  \n",
              "3      0.000003  0.000003  9.470127e-07      1  \n",
              "4      0.000003  0.000003  9.470127e-07      1  \n",
              "\n",
              "[5 rows x 33 columns]"
            ]
          },
          "execution_count": 219,
          "metadata": {},
          "output_type": "execute_result"
        }
      ],
      "source": [
        "df.head()"
      ]
    },
    {
      "cell_type": "code",
      "execution_count": 220,
      "metadata": {
        "colab": {
          "base_uri": "https://localhost:8080/",
          "height": 349
        },
        "id": "9BPBGfhzBfGm",
        "outputId": "8b39c5b5-515f-426d-c748-c2da4b7bb846"
      },
      "outputs": [
        {
          "data": {
            "text/html": [
              "<div>\n",
              "<style scoped>\n",
              "    .dataframe tbody tr th:only-of-type {\n",
              "        vertical-align: middle;\n",
              "    }\n",
              "\n",
              "    .dataframe tbody tr th {\n",
              "        vertical-align: top;\n",
              "    }\n",
              "\n",
              "    .dataframe thead th {\n",
              "        text-align: right;\n",
              "    }\n",
              "</style>\n",
              "<table border=\"1\" class=\"dataframe\">\n",
              "  <thead>\n",
              "    <tr style=\"text-align: right;\">\n",
              "      <th></th>\n",
              "      <th>Fine.name</th>\n",
              "      <th>pdfsize</th>\n",
              "      <th>metadata.size</th>\n",
              "      <th>pages</th>\n",
              "      <th>xref.Length</th>\n",
              "      <th>title.characters</th>\n",
              "      <th>isEncrypted</th>\n",
              "      <th>embedded.files</th>\n",
              "      <th>images</th>\n",
              "      <th>text</th>\n",
              "      <th>...</th>\n",
              "      <th>AA</th>\n",
              "      <th>OpenAction</th>\n",
              "      <th>Acroform</th>\n",
              "      <th>JBIG2Decode</th>\n",
              "      <th>RichMedia</th>\n",
              "      <th>launch</th>\n",
              "      <th>EmbeddedFile</th>\n",
              "      <th>XFA</th>\n",
              "      <th>Colors</th>\n",
              "      <th>Class</th>\n",
              "    </tr>\n",
              "  </thead>\n",
              "  <tbody>\n",
              "    <tr>\n",
              "      <th>count</th>\n",
              "      <td>10023.000000</td>\n",
              "      <td>10023.000000</td>\n",
              "      <td>10023.000000</td>\n",
              "      <td>10023.000000</td>\n",
              "      <td>10023.000000</td>\n",
              "      <td>1.002300e+04</td>\n",
              "      <td>1.002300e+04</td>\n",
              "      <td>1.002300e+04</td>\n",
              "      <td>10023.000000</td>\n",
              "      <td>10023.000000</td>\n",
              "      <td>...</td>\n",
              "      <td>10023.000000</td>\n",
              "      <td>1.002300e+04</td>\n",
              "      <td>1.002300e+04</td>\n",
              "      <td>1.002300e+04</td>\n",
              "      <td>1.002300e+04</td>\n",
              "      <td>1.002300e+04</td>\n",
              "      <td>10023.000000</td>\n",
              "      <td>1.002300e+04</td>\n",
              "      <td>1.002300e+04</td>\n",
              "      <td>10023.000000</td>\n",
              "    </tr>\n",
              "    <tr>\n",
              "      <th>mean</th>\n",
              "      <td>0.004748</td>\n",
              "      <td>0.000084</td>\n",
              "      <td>0.000317</td>\n",
              "      <td>0.000004</td>\n",
              "      <td>0.002585</td>\n",
              "      <td>4.970631e-05</td>\n",
              "      <td>9.272656e-07</td>\n",
              "      <td>9.408713e-07</td>\n",
              "      <td>0.000007</td>\n",
              "      <td>0.000004</td>\n",
              "      <td>...</td>\n",
              "      <td>0.000003</td>\n",
              "      <td>3.105971e-06</td>\n",
              "      <td>3.231824e-06</td>\n",
              "      <td>2.847369e-06</td>\n",
              "      <td>2.796442e-06</td>\n",
              "      <td>2.802678e-06</td>\n",
              "      <td>0.000004</td>\n",
              "      <td>2.843589e-06</td>\n",
              "      <td>2.923428e-06</td>\n",
              "      <td>0.554225</td>\n",
              "    </tr>\n",
              "    <tr>\n",
              "      <th>std</th>\n",
              "      <td>0.002741</td>\n",
              "      <td>0.000421</td>\n",
              "      <td>0.001483</td>\n",
              "      <td>0.000011</td>\n",
              "      <td>0.017149</td>\n",
              "      <td>1.282989e-03</td>\n",
              "      <td>1.958511e-07</td>\n",
              "      <td>2.434991e-07</td>\n",
              "      <td>0.000013</td>\n",
              "      <td>0.000001</td>\n",
              "      <td>...</td>\n",
              "      <td>0.000002</td>\n",
              "      <td>6.074561e-07</td>\n",
              "      <td>8.941958e-07</td>\n",
              "      <td>7.076832e-07</td>\n",
              "      <td>2.551976e-07</td>\n",
              "      <td>2.555097e-07</td>\n",
              "      <td>0.000004</td>\n",
              "      <td>3.438097e-07</td>\n",
              "      <td>5.509538e-05</td>\n",
              "      <td>0.497076</td>\n",
              "    </tr>\n",
              "    <tr>\n",
              "      <th>min</th>\n",
              "      <td>0.000002</td>\n",
              "      <td>0.000000</td>\n",
              "      <td>0.000000</td>\n",
              "      <td>0.000000</td>\n",
              "      <td>0.000000</td>\n",
              "      <td>0.000000e+00</td>\n",
              "      <td>0.000000e+00</td>\n",
              "      <td>0.000000e+00</td>\n",
              "      <td>0.000002</td>\n",
              "      <td>0.000002</td>\n",
              "      <td>...</td>\n",
              "      <td>0.000002</td>\n",
              "      <td>1.894025e-06</td>\n",
              "      <td>1.894025e-06</td>\n",
              "      <td>1.894025e-06</td>\n",
              "      <td>1.894025e-06</td>\n",
              "      <td>1.894025e-06</td>\n",
              "      <td>0.000002</td>\n",
              "      <td>1.894025e-06</td>\n",
              "      <td>0.000000e+00</td>\n",
              "      <td>0.000000</td>\n",
              "    </tr>\n",
              "    <tr>\n",
              "      <th>25%</th>\n",
              "      <td>0.002375</td>\n",
              "      <td>0.000009</td>\n",
              "      <td>0.000171</td>\n",
              "      <td>0.000002</td>\n",
              "      <td>0.000012</td>\n",
              "      <td>9.470127e-07</td>\n",
              "      <td>9.470127e-07</td>\n",
              "      <td>9.470127e-07</td>\n",
              "      <td>0.000003</td>\n",
              "      <td>0.000004</td>\n",
              "      <td>...</td>\n",
              "      <td>0.000003</td>\n",
              "      <td>2.841038e-06</td>\n",
              "      <td>2.841038e-06</td>\n",
              "      <td>2.841038e-06</td>\n",
              "      <td>2.841038e-06</td>\n",
              "      <td>2.841038e-06</td>\n",
              "      <td>0.000003</td>\n",
              "      <td>2.841038e-06</td>\n",
              "      <td>9.470127e-07</td>\n",
              "      <td>0.000000</td>\n",
              "    </tr>\n",
              "    <tr>\n",
              "      <th>50%</th>\n",
              "      <td>0.004748</td>\n",
              "      <td>0.000035</td>\n",
              "      <td>0.000252</td>\n",
              "      <td>0.000002</td>\n",
              "      <td>0.000021</td>\n",
              "      <td>9.470127e-07</td>\n",
              "      <td>9.470127e-07</td>\n",
              "      <td>9.470127e-07</td>\n",
              "      <td>0.000003</td>\n",
              "      <td>0.000004</td>\n",
              "      <td>...</td>\n",
              "      <td>0.000003</td>\n",
              "      <td>2.841038e-06</td>\n",
              "      <td>2.841038e-06</td>\n",
              "      <td>2.841038e-06</td>\n",
              "      <td>2.841038e-06</td>\n",
              "      <td>2.841038e-06</td>\n",
              "      <td>0.000003</td>\n",
              "      <td>2.841038e-06</td>\n",
              "      <td>9.470127e-07</td>\n",
              "      <td>1.000000</td>\n",
              "    </tr>\n",
              "    <tr>\n",
              "      <th>75%</th>\n",
              "      <td>0.007122</td>\n",
              "      <td>0.000077</td>\n",
              "      <td>0.000303</td>\n",
              "      <td>0.000003</td>\n",
              "      <td>0.000074</td>\n",
              "      <td>1.325818e-05</td>\n",
              "      <td>9.470127e-07</td>\n",
              "      <td>9.470127e-07</td>\n",
              "      <td>0.000004</td>\n",
              "      <td>0.000006</td>\n",
              "      <td>...</td>\n",
              "      <td>0.000003</td>\n",
              "      <td>3.788051e-06</td>\n",
              "      <td>3.788051e-06</td>\n",
              "      <td>2.841038e-06</td>\n",
              "      <td>2.841038e-06</td>\n",
              "      <td>2.841038e-06</td>\n",
              "      <td>0.000003</td>\n",
              "      <td>2.841038e-06</td>\n",
              "      <td>9.470127e-07</td>\n",
              "      <td>1.000000</td>\n",
              "    </tr>\n",
              "    <tr>\n",
              "      <th>max</th>\n",
              "      <td>0.009495</td>\n",
              "      <td>0.022555</td>\n",
              "      <td>0.073096</td>\n",
              "      <td>0.000564</td>\n",
              "      <td>0.250000</td>\n",
              "      <td>7.291430e-02</td>\n",
              "      <td>4.735064e-06</td>\n",
              "      <td>5.682076e-06</td>\n",
              "      <td>0.000085</td>\n",
              "      <td>0.000006</td>\n",
              "      <td>...</td>\n",
              "      <td>0.000039</td>\n",
              "      <td>8.523115e-06</td>\n",
              "      <td>1.041714e-05</td>\n",
              "      <td>1.609922e-05</td>\n",
              "      <td>7.576102e-06</td>\n",
              "      <td>5.682076e-06</td>\n",
              "      <td>0.000019</td>\n",
              "      <td>7.576102e-06</td>\n",
              "      <td>5.381873e-03</td>\n",
              "      <td>1.000000</td>\n",
              "    </tr>\n",
              "  </tbody>\n",
              "</table>\n",
              "<p>8 rows × 33 columns</p>\n",
              "</div>"
            ],
            "text/plain": [
              "          Fine.name       pdfsize  metadata.size         pages   xref.Length  \\\n",
              "count  10023.000000  10023.000000   10023.000000  10023.000000  10023.000000   \n",
              "mean       0.004748      0.000084       0.000317      0.000004      0.002585   \n",
              "std        0.002741      0.000421       0.001483      0.000011      0.017149   \n",
              "min        0.000002      0.000000       0.000000      0.000000      0.000000   \n",
              "25%        0.002375      0.000009       0.000171      0.000002      0.000012   \n",
              "50%        0.004748      0.000035       0.000252      0.000002      0.000021   \n",
              "75%        0.007122      0.000077       0.000303      0.000003      0.000074   \n",
              "max        0.009495      0.022555       0.073096      0.000564      0.250000   \n",
              "\n",
              "       title.characters   isEncrypted  embedded.files        images  \\\n",
              "count      1.002300e+04  1.002300e+04    1.002300e+04  10023.000000   \n",
              "mean       4.970631e-05  9.272656e-07    9.408713e-07      0.000007   \n",
              "std        1.282989e-03  1.958511e-07    2.434991e-07      0.000013   \n",
              "min        0.000000e+00  0.000000e+00    0.000000e+00      0.000002   \n",
              "25%        9.470127e-07  9.470127e-07    9.470127e-07      0.000003   \n",
              "50%        9.470127e-07  9.470127e-07    9.470127e-07      0.000003   \n",
              "75%        1.325818e-05  9.470127e-07    9.470127e-07      0.000004   \n",
              "max        7.291430e-02  4.735064e-06    5.682076e-06      0.000085   \n",
              "\n",
              "               text  ...            AA    OpenAction      Acroform  \\\n",
              "count  10023.000000  ...  10023.000000  1.002300e+04  1.002300e+04   \n",
              "mean       0.000004  ...      0.000003  3.105971e-06  3.231824e-06   \n",
              "std        0.000001  ...      0.000002  6.074561e-07  8.941958e-07   \n",
              "min        0.000002  ...      0.000002  1.894025e-06  1.894025e-06   \n",
              "25%        0.000004  ...      0.000003  2.841038e-06  2.841038e-06   \n",
              "50%        0.000004  ...      0.000003  2.841038e-06  2.841038e-06   \n",
              "75%        0.000006  ...      0.000003  3.788051e-06  3.788051e-06   \n",
              "max        0.000006  ...      0.000039  8.523115e-06  1.041714e-05   \n",
              "\n",
              "        JBIG2Decode     RichMedia        launch  EmbeddedFile           XFA  \\\n",
              "count  1.002300e+04  1.002300e+04  1.002300e+04  10023.000000  1.002300e+04   \n",
              "mean   2.847369e-06  2.796442e-06  2.802678e-06      0.000004  2.843589e-06   \n",
              "std    7.076832e-07  2.551976e-07  2.555097e-07      0.000004  3.438097e-07   \n",
              "min    1.894025e-06  1.894025e-06  1.894025e-06      0.000002  1.894025e-06   \n",
              "25%    2.841038e-06  2.841038e-06  2.841038e-06      0.000003  2.841038e-06   \n",
              "50%    2.841038e-06  2.841038e-06  2.841038e-06      0.000003  2.841038e-06   \n",
              "75%    2.841038e-06  2.841038e-06  2.841038e-06      0.000003  2.841038e-06   \n",
              "max    1.609922e-05  7.576102e-06  5.682076e-06      0.000019  7.576102e-06   \n",
              "\n",
              "             Colors         Class  \n",
              "count  1.002300e+04  10023.000000  \n",
              "mean   2.923428e-06      0.554225  \n",
              "std    5.509538e-05      0.497076  \n",
              "min    0.000000e+00      0.000000  \n",
              "25%    9.470127e-07      0.000000  \n",
              "50%    9.470127e-07      1.000000  \n",
              "75%    9.470127e-07      1.000000  \n",
              "max    5.381873e-03      1.000000  \n",
              "\n",
              "[8 rows x 33 columns]"
            ]
          },
          "execution_count": 220,
          "metadata": {},
          "output_type": "execute_result"
        }
      ],
      "source": [
        "df.describe()"
      ]
    },
    {
      "cell_type": "code",
      "execution_count": 221,
      "metadata": {
        "colab": {
          "base_uri": "https://localhost:8080/"
        },
        "id": "M5G-1n_uBmrM",
        "outputId": "9bba18da-1d29-4d2e-9bdb-e309f1dfbe7e"
      },
      "outputs": [
        {
          "name": "stdout",
          "output_type": "stream",
          "text": [
            "<class 'pandas.core.frame.DataFrame'>\n",
            "RangeIndex: 10023 entries, 0 to 10022\n",
            "Data columns (total 33 columns):\n",
            " #   Column            Non-Null Count  Dtype  \n",
            "---  ------            --------------  -----  \n",
            " 0   Fine.name         10023 non-null  float64\n",
            " 1   pdfsize           10023 non-null  float64\n",
            " 2   metadata.size     10023 non-null  float64\n",
            " 3   pages             10023 non-null  float64\n",
            " 4   xref.Length       10023 non-null  float64\n",
            " 5   title.characters  10023 non-null  float64\n",
            " 6   isEncrypted       10023 non-null  float64\n",
            " 7   embedded.files    10023 non-null  float64\n",
            " 8   images            10023 non-null  float64\n",
            " 9   text              10023 non-null  float64\n",
            " 10  header            10023 non-null  float64\n",
            " 11  obj               10023 non-null  float64\n",
            " 12  endobj            10023 non-null  float64\n",
            " 13  stream            10023 non-null  float64\n",
            " 14  endstream         10023 non-null  float64\n",
            " 15  xref              10023 non-null  float64\n",
            " 16  trailer           10023 non-null  float64\n",
            " 17  startxref         10023 non-null  float64\n",
            " 18  pageno            10023 non-null  float64\n",
            " 19  encrypt           10023 non-null  float64\n",
            " 20  ObjStm            10023 non-null  float64\n",
            " 21  JS                10023 non-null  float64\n",
            " 22  Javascript        10023 non-null  float64\n",
            " 23  AA                10023 non-null  float64\n",
            " 24  OpenAction        10023 non-null  float64\n",
            " 25  Acroform          10023 non-null  float64\n",
            " 26  JBIG2Decode       10023 non-null  float64\n",
            " 27  RichMedia         10023 non-null  float64\n",
            " 28  launch            10023 non-null  float64\n",
            " 29  EmbeddedFile      10023 non-null  float64\n",
            " 30  XFA               10023 non-null  float64\n",
            " 31  Colors            10023 non-null  float64\n",
            " 32  Class             10023 non-null  int32  \n",
            "dtypes: float64(32), int32(1)\n",
            "memory usage: 2.5 MB\n"
          ]
        }
      ],
      "source": [
        "df.info()"
      ]
    },
    {
      "cell_type": "code",
      "execution_count": 222,
      "metadata": {
        "id": "2I0-9OeLBpdH"
      },
      "outputs": [],
      "source": [
        "partA, partB = train_test_split(df, test_size=0.9)"
      ]
    },
    {
      "cell_type": "code",
      "execution_count": 223,
      "metadata": {
        "colab": {
          "base_uri": "https://localhost:8080/",
          "height": 1000
        },
        "id": "mfp2iMtWBwQN",
        "outputId": "6c2ed511-358d-49c3-bbea-3edc0521c38e"
      },
      "outputs": [
        {
          "name": "stdout",
          "output_type": "stream",
          "text": [
            "<class 'pandas.core.frame.DataFrame'>\n",
            "Index: 1002 entries, 6078 to 1043\n",
            "Data columns (total 33 columns):\n",
            " #   Column            Non-Null Count  Dtype  \n",
            "---  ------            --------------  -----  \n",
            " 0   Fine.name         1002 non-null   float64\n",
            " 1   pdfsize           1002 non-null   float64\n",
            " 2   metadata.size     1002 non-null   float64\n",
            " 3   pages             1002 non-null   float64\n",
            " 4   xref.Length       1002 non-null   float64\n",
            " 5   title.characters  1002 non-null   float64\n",
            " 6   isEncrypted       1002 non-null   float64\n",
            " 7   embedded.files    1002 non-null   float64\n",
            " 8   images            1002 non-null   float64\n",
            " 9   text              1002 non-null   float64\n",
            " 10  header            1002 non-null   float64\n",
            " 11  obj               1002 non-null   float64\n",
            " 12  endobj            1002 non-null   float64\n",
            " 13  stream            1002 non-null   float64\n",
            " 14  endstream         1002 non-null   float64\n",
            " 15  xref              1002 non-null   float64\n",
            " 16  trailer           1002 non-null   float64\n",
            " 17  startxref         1002 non-null   float64\n",
            " 18  pageno            1002 non-null   float64\n",
            " 19  encrypt           1002 non-null   float64\n",
            " 20  ObjStm            1002 non-null   float64\n",
            " 21  JS                1002 non-null   float64\n",
            " 22  Javascript        1002 non-null   float64\n",
            " 23  AA                1002 non-null   float64\n",
            " 24  OpenAction        1002 non-null   float64\n",
            " 25  Acroform          1002 non-null   float64\n",
            " 26  JBIG2Decode       1002 non-null   float64\n",
            " 27  RichMedia         1002 non-null   float64\n",
            " 28  launch            1002 non-null   float64\n",
            " 29  EmbeddedFile      1002 non-null   float64\n",
            " 30  XFA               1002 non-null   float64\n",
            " 31  Colors            1002 non-null   float64\n",
            " 32  Class             1002 non-null   int32  \n",
            "dtypes: float64(32), int32(1)\n",
            "memory usage: 262.2 KB\n"
          ]
        },
        {
          "data": {
            "image/png": "[encoded data removed]",
            "text/plain": [
              "<Figure size 640x480 with 1 Axes>"
            ]
          },
          "metadata": {},
          "output_type": "display_data"
        }
      ],
      "source": [
        "partA.info()\n",
        "plt.hist(partA['Class'])\n",
        "plt.xlabel('Labels')\n",
        "plt.ylabel('Freq')\n",
        "plt.show()"
      ]
    },
    {
      "cell_type": "code",
      "execution_count": 224,
      "metadata": {
        "colab": {
          "base_uri": "https://localhost:8080/",
          "height": 1000
        },
        "id": "K0tBNzoMB-eR",
        "outputId": "cb84e14d-c5e9-449f-bcec-e08905863762"
      },
      "outputs": [
        {
          "name": "stdout",
          "output_type": "stream",
          "text": [
            "<class 'pandas.core.frame.DataFrame'>\n",
            "Index: 9021 entries, 1275 to 9525\n",
            "Data columns (total 33 columns):\n",
            " #   Column            Non-Null Count  Dtype  \n",
            "---  ------            --------------  -----  \n",
            " 0   Fine.name         9021 non-null   float64\n",
            " 1   pdfsize           9021 non-null   float64\n",
            " 2   metadata.size     9021 non-null   float64\n",
            " 3   pages             9021 non-null   float64\n",
            " 4   xref.Length       9021 non-null   float64\n",
            " 5   title.characters  9021 non-null   float64\n",
            " 6   isEncrypted       9021 non-null   float64\n",
            " 7   embedded.files    9021 non-null   float64\n",
            " 8   images            9021 non-null   float64\n",
            " 9   text              9021 non-null   float64\n",
            " 10  header            9021 non-null   float64\n",
            " 11  obj               9021 non-null   float64\n",
            " 12  endobj            9021 non-null   float64\n",
            " 13  stream            9021 non-null   float64\n",
            " 14  endstream         9021 non-null   float64\n",
            " 15  xref              9021 non-null   float64\n",
            " 16  trailer           9021 non-null   float64\n",
            " 17  startxref         9021 non-null   float64\n",
            " 18  pageno            9021 non-null   float64\n",
            " 19  encrypt           9021 non-null   float64\n",
            " 20  ObjStm            9021 non-null   float64\n",
            " 21  JS                9021 non-null   float64\n",
            " 22  Javascript        9021 non-null   float64\n",
            " 23  AA                9021 non-null   float64\n",
            " 24  OpenAction        9021 non-null   float64\n",
            " 25  Acroform          9021 non-null   float64\n",
            " 26  JBIG2Decode       9021 non-null   float64\n",
            " 27  RichMedia         9021 non-null   float64\n",
            " 28  launch            9021 non-null   float64\n",
            " 29  EmbeddedFile      9021 non-null   float64\n",
            " 30  XFA               9021 non-null   float64\n",
            " 31  Colors            9021 non-null   float64\n",
            " 32  Class             9021 non-null   int32  \n",
            "dtypes: float64(32), int32(1)\n",
            "memory usage: 2.3 MB\n"
          ]
        },
        {
          "data": {
            "image/png": "[encoded data removed]",
            "text/plain": [
              "<Figure size 640x480 with 1 Axes>"
            ]
          },
          "metadata": {},
          "output_type": "display_data"
        }
      ],
      "source": [
        "partB.info()\n",
        "plt.hist(partB['Class'])\n",
        "plt.xlabel('Labels')\n",
        "plt.ylabel('Freq')\n",
        "plt.show()"
      ]
    },
    {
      "cell_type": "code",
      "execution_count": 225,
      "metadata": {
        "id": "AkMClOzECDbn"
      },
      "outputs": [],
      "source": [
        "y = partA[\"Class\"]\n",
        "x = partA.drop(\"Class\", axis = 1)"
      ]
    },
    {
      "cell_type": "code",
      "execution_count": 226,
      "metadata": {
        "id": "DdPj5obfCPli"
      },
      "outputs": [],
      "source": [
        "X_train, X_teste, y_train, y_test = train_test_split(x, y, test_size = 0.2)"
      ]
    },
    {
      "cell_type": "code",
      "execution_count": 227,
      "metadata": {
        "id": "RqjCd2BCChTT"
      },
      "outputs": [],
      "source": [
        "k_range = np.arange(1, 30, 2)\n",
        "scores = []\n",
        "\n",
        "for k in k_range:\n",
        "    knn = KNeighborsClassifier(n_neighbors=k)\n",
        "    score = cross_val_score(knn, X_train, y_train, cv = 5, scoring=\"accuracy\").mean()\n",
        "    scores.append(score)"
      ]
    },
    {
      "cell_type": "code",
      "execution_count": 228,
      "metadata": {
        "colab": {
          "base_uri": "https://localhost:8080/",
          "height": 449
        },
        "id": "bvhkhRtOC7Ez",
        "outputId": "4202a073-5d58-48af-8d5d-7d33c1ae2f95"
      },
      "outputs": [
        {
          "data": {
            "image/png": "[encoded data removed]",
            "text/plain": [
              "<Figure size 640x480 with 1 Axes>"
            ]
          },
          "metadata": {},
          "output_type": "display_data"
        }
      ],
      "source": [
        "best_k = scores.index(max(scores))\n",
        "\n",
        "plt.plot(k_range, scores)\n",
        "plt.xlabel(\"K Value\")\n",
        "plt.ylabel(\"Accuracy\")\n",
        "plt.axvline(k_range[best_k], color=\"red\", linestyle=\"dashed\")\n",
        "plt.show()"
      ]
    },
    {
      "cell_type": "code",
      "execution_count": 229,
      "metadata": {
        "id": "naIyIVXQHEAU"
      },
      "outputs": [],
      "source": [
        "grid_params = {\n",
        "    'n_neighbors': [1, 3, 5, 7, 9, 11, 13, 15],\n",
        "    'weights': ['uniform', 'distance'],\n",
        "    #'metric': ['euclidean', 'manhattan']\n",
        "    'metric': ['jaccard', 'cityblock', 'russellrao', 'l1', 'sqeuclidean', 'p', 'nan_euclidean', 'hamming', 'braycurtis', 'cosine', 'correlation', 'chebyshev', 'yule', 'manhattan', 'rogerstanimoto', 'euclidean', 'sokalmichener', 'l2', 'canberra', 'dice', 'minkowski', 'infinity']\n",
        "}"
      ]
    },
    {
      "cell_type": "code",
      "execution_count": 230,
      "metadata": {
        "id": "Hge_1EZ0HdHw"
      },
      "outputs": [],
      "source": [
        "gs = GridSearchCV(\n",
        "    KNeighborsClassifier(),\n",
        "    grid_params,\n",
        "    verbose = 1,\n",
        "    cv = 10,\n",
        "    n_jobs = -1,\n",
        "    error_score = 'raise'\n",
        ")"
      ]
    },
    {
      "cell_type": "code",
      "execution_count": 231,
      "metadata": {
        "colab": {
          "base_uri": "https://localhost:8080/"
        },
        "id": "QzYm3yB9HppQ",
        "outputId": "f6d84fa0-285b-4080-b521-c4fa63091d46"
      },
      "outputs": [],
      "source": [
        "gs_results = gs.fit(x, y)\n",
        "gs_results.best_params_"
      ]
    },
    {
      "cell_type": "code",
      "execution_count": 232,
      "metadata": {
        "id": "zOGPYdJuDaqM"
      },
      "outputs": [],
      "source": [
        "y = partB[\"Class\"]\n",
        "x = partB.drop(\"Class\", axis=1)"
      ]
    },
    {
      "cell_type": "code",
      "execution_count": 233,
      "metadata": {
        "id": "3YYta3FfD8v5"
      },
      "outputs": [],
      "source": [
        "clf1 = KNeighborsClassifier(n_neighbors = 7, weights='distance', metric='hamming')\n",
        "clf1_pred = cross_val_predict(clf1, x, y, cv=10)\n",
        "conf_clf1 = confusion_matrix(y, clf1_pred)"
      ]
    },
    {
      "cell_type": "code",
      "execution_count": 234,
      "metadata": {
        "colab": {
          "base_uri": "https://localhost:8080/"
        },
        "id": "5Sgl9vf0Du9t",
        "outputId": "975b217c-93a0-4af0-bcb6-61f52175466b"
      },
      "outputs": [
        {
          "name": "stdout",
          "output_type": "stream",
          "text": [
            "TN: 3994\n",
            "TP: 4975\n",
            "FP: 29\n",
            "FN: 23\n",
            "\n",
            "Accuracy: 99.4235672320142\n",
            "Precision: 99.42046362909672\n",
            "Recall: 99.53981592637055\n"
          ]
        }
      ],
      "source": [
        "tn = conf_clf1[0, 0]\n",
        "tp = conf_clf1[1, 1]\n",
        "fp = conf_clf1[0, 1]\n",
        "fn = conf_clf1[1, 0]\n",
        "\n",
        "print(\"TN:\", tn)\n",
        "print(\"TP:\", tp)\n",
        "print(\"FP:\", fp)\n",
        "print(\"FN:\", fn)\n",
        "print()\n",
        "print(\"Accuracy:\", accuracy_score(y, clf1_pred)*100)\n",
        "print(\"Precision:\", precision_score(y, clf1_pred)*100)\n",
        "print(\"Recall:\", recall_score(y, clf1_pred)*100)"
      ]
    }
  ],
  "metadata": {
    "colab": {
      "provenance": []
    },
    "kernelspec": {
      "display_name": "Python 3",
      "name": "python3"
    },
    "language_info": {
      "codemirror_mode": {
        "name": "ipython",
        "version": 3
      },
      "file_extension": ".py",
      "mimetype": "text/x-python",
      "name": "python",
      "nbconvert_exporter": "python",
      "pygments_lexer": "ipython3",
      "version": "3.12.3"
    }
  },
  "nbformat": 4,
  "nbformat_minor": 0
}
